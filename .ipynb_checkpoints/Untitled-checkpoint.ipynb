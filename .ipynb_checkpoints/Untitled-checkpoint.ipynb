{
 "cells": [
  {
   "cell_type": "markdown",
   "id": "d622b98e",
   "metadata": {},
   "source": [
    "## Tabla de LapTimes"
   ]
  },
  {
   "cell_type": "markdown",
   "id": "940d8e67",
   "metadata": {},
   "source": [
    "Caragamos las librerias necesarias:"
   ]
  },
  {
   "cell_type": "code",
   "execution_count": 3,
   "id": "7a3ec709",
   "metadata": {},
   "outputs": [],
   "source": [
    "import requests\n",
    "import json\n",
    "import pandas as pd\n",
    "import warnings \n",
    "warnings.filterwarnings(\"ignore\")"
   ]
  },
  {
   "cell_type": "markdown",
   "id": "26ef135e",
   "metadata": {},
   "source": [
    "Generamos el diccionario que almacenara los valores de ls variables:"
   ]
  },
  {
   "cell_type": "code",
   "execution_count": 4,
   "id": "d1a9bed0",
   "metadata": {},
   "outputs": [],
   "source": [
    "lapTimes = {'year':[],\n",
    "        'round':[],\n",
    "        'RaceName':[],\n",
    "        'raceId':[],\n",
    "        'driverId':[],  \n",
    "        'lap':[],\n",
    "        'position':[],\n",
    "        'time':[]}"
   ]
  },
  {
   "cell_type": "markdown",
   "id": "3a277e1b",
   "metadata": {},
   "source": [
    "Establecemos el ciclo para obtener los datos de los urls correspondientes:"
   ]
  },
  {
   "cell_type": "code",
   "execution_count": 5,
   "id": "cd7b4165",
   "metadata": {},
   "outputs": [],
   "source": [
    "urls = []\n",
    "for i in list(range(2010,2023)):\n",
    "    url1 = 'http://ergast.com/api/f1/'\n",
    "    url2 = url1 + str(i)\n",
    "    url3 = url2 + '.json'\n",
    "    response = requests.get(url3)\n",
    "    content = json.loads(response.content)\n",
    "    for i in list(range(1,len(content['MRData']['RaceTable']['Races'])+1)):\n",
    "        url4 = url2 + '/' +str(i) + '/laps.json?limit=1000' \n",
    "        urls.append(url4)"
   ]
  },
  {
   "cell_type": "markdown",
   "id": "9920a178",
   "metadata": {},
   "source": [
    "Ahora añadimos la informacion al diccionario:"
   ]
  },
  {
   "cell_type": "code",
   "execution_count": null,
   "id": "6f46a5aa",
   "metadata": {},
   "outputs": [],
   "source": [
    "for j in urls:\n",
    "    response = requests.get(j)\n",
    "    content=json.loads(response.content)\n",
    "    for m1 in content['MRData']['RaceTable']['Races']:\n",
    "        for m2 in content['MRData']['RaceTable']['Races'][0]['Laps']:\n",
    "            for m3 in m2['Timings']:\n",
    "                lapTimes['year'].append(int(m1['season']))\n",
    "                lapTimes['RaceName'].append(str(m1['raceName']))\n",
    "                lapTimes['round'].append(int(m1['round']))\n",
    "                lapTimes['raceId'].append(m1['season'] + '_' + m1['round'])\n",
    "                lapTimes['position'].append(int(m3['position']))\n",
    "                lapTimes['driverId'].append(str(m3['driverId']))\n",
    "                lapTimes['lap'].append(int(m2['number']))\n",
    "                lapTimes['time'].append(m3['time'])\n"
   ]
  },
  {
   "cell_type": "markdown",
   "id": "44ed9198",
   "metadata": {},
   "source": [
    "Generamos el dataframe del diccionario de lapTimes:"
   ]
  },
  {
   "cell_type": "code",
   "execution_count": null,
   "id": "41de1c2e",
   "metadata": {},
   "outputs": [],
   "source": [
    "LapTimes=pd.DataFrame(lapTimes)\n",
    "LapTimes"
   ]
  },
  {
   "cell_type": "code",
   "execution_count": null,
   "id": "8822c614",
   "metadata": {},
   "outputs": [],
   "source": []
  },
  {
   "cell_type": "code",
   "execution_count": null,
   "id": "e27a141f",
   "metadata": {},
   "outputs": [],
   "source": []
  }
 ],
 "metadata": {
  "kernelspec": {
   "display_name": "Python 3 (ipykernel)",
   "language": "python",
   "name": "python3"
  },
  "language_info": {
   "codemirror_mode": {
    "name": "ipython",
    "version": 3
   },
   "file_extension": ".py",
   "mimetype": "text/x-python",
   "name": "python",
   "nbconvert_exporter": "python",
   "pygments_lexer": "ipython3",
   "version": "3.9.13"
  }
 },
 "nbformat": 4,
 "nbformat_minor": 5
}
